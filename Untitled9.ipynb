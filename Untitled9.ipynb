{
  "metadata": {
    "language_info": {
      "codemirror_mode": {
        "name": "python",
        "version": 3
      },
      "file_extension": ".py",
      "mimetype": "text/x-python",
      "name": "python",
      "nbconvert_exporter": "python",
      "pygments_lexer": "ipython3",
      "version": "3.8"
    },
    "kernelspec": {
      "name": "python",
      "display_name": "Python (Pyodide)",
      "language": "python"
    }
  },
  "nbformat_minor": 4,
  "nbformat": 4,
  "cells": [
    {
      "cell_type": "code",
      "source": "#  Q1. How do you comment code in Python? What are the different types of comments?\n\n# Ans. There are many ways to comment a code in python some of them are:\n#     1.) # hashtag in your code at the starting of whatever you are writing would be considered as a comment.\n#     2.) \"\"\" Triple Quotes will also be considered as comments. It is wasy to use as a multiline comment, just put triple quotes at both starting and end of your comments.\n",
      "metadata": {
        "trusted": true
      },
      "execution_count": 14,
      "outputs": []
    },
    {
      "cell_type": "code",
      "source": "#  # Q2. What are variables in Python? How do you declare and assign values to variables?\n\n# # Ans.) Variables are identifiers which used to hold diferrent type of values in python memory location. You declare the variabele by writing the variable name you would like to call it out by and declare it by using = sign.\n#  For example, if I want to declare a variable v and assign value int 10 to it then  i would do it like this.\n#     v = 10",
      "metadata": {},
      "execution_count": null,
      "outputs": []
    },
    {
      "cell_type": "code",
      "source": "# #Q3. How do you convert one data type to another in Python?\n\n# Ans.) You do it by type casting it to that data value. Let's say if we want to type cast an int value of 10 into string we do it like this :\n# str(10)",
      "metadata": {},
      "execution_count": null,
      "outputs": []
    },
    {
      "cell_type": "code",
      "source": "# Q4. How do you write and execute a Python script from the command line?\n\n# Ans.) To write a python script, create a new text file with a.py extension and write your python code inside it.\n        \n#     To execute the script from the command line, use the command: python script_name.py(replace script_name.py with the actual file name). Use your terminal.",
      "metadata": {},
      "execution_count": null,
      "outputs": []
    },
    {
      "cell_type": "code",
      "source": "# Q5. Given a list my_list = [1, 2, 3, 4, 5], write the code to slice the list and obtain the sub-list [2, 3].\n\n# Ans.) list[1:3:1]",
      "metadata": {
        "trusted": true
      },
      "execution_count": 15,
      "outputs": []
    },
    {
      "cell_type": "code",
      "source": "# Q6. What is a complex number in mathematics, and how is it represented in Python?\n\n# Ans.) Complex number is a combination of a real number and an imaginary number. It is represented in python with the help of j as on the side of imaginary number\n\n# For example: 3 + 7j is a complex number. Any alphabet other than j would give error and will not be acceptable while creating a complex number.",
      "metadata": {
        "trusted": true
      },
      "execution_count": 13,
      "outputs": []
    },
    {
      "cell_type": "code",
      "source": "# Q7. What is the correct way to declare a variable named age and assign the value 25 to it?\n\n# Ans.) The correct way to declare a variable is by simply writing the name of the variable and to assign a value to it you need to use = sign after declaring your variable.\n\n# For example: \n    \n    age = 25",
      "metadata": {
        "trusted": true
      },
      "execution_count": null,
      "outputs": []
    },
    {
      "cell_type": "code",
      "source": "# Q8. Declare a variable named price and assign the value 9.99 to it. What data type does this variable\n# belong to?\n\n# Ans.) Data type of the below mentioned variable is Float.\n\nprice = 9.99",
      "metadata": {},
      "execution_count": null,
      "outputs": []
    },
    {
      "cell_type": "code",
      "source": "# Q9. Create a variable named name and assign your full name to it as a string. How would you print the\n# value of this variable?\n\n# Ans.) We print the value of the variable by just calling out the variable name after declaring the variable and value to it as mentioned below.\n\nname = \"Vinay Jha\"\n\n# Now we just need to call out the variable name and execute the code to print the value in it like mentioned below.\nname",
      "metadata": {
        "trusted": true
      },
      "execution_count": 20,
      "outputs": [
        {
          "execution_count": 20,
          "output_type": "execute_result",
          "data": {
            "text/plain": "'Vinay Jha'"
          },
          "metadata": {}
        }
      ]
    },
    {
      "cell_type": "code",
      "source": "# Q10. Given the string \"Hello, World!\", extract the substring \"World\".\n\n# Ans.) We can extract the substring by slice the string as mentioned below.\n\n# Lets's say for this string we assign it a variable name v,\n\nv = \"Hello, World!\"\n\n# to extract out the result you need to slice it as below\n\nv[7:12:1]",
      "metadata": {
        "trusted": true
      },
      "execution_count": 44,
      "outputs": [
        {
          "execution_count": 44,
          "output_type": "execute_result",
          "data": {
            "text/plain": "'World'"
          },
          "metadata": {}
        }
      ]
    },
    {
      "cell_type": "code",
      "source": "# Q11. Create a variable named \"is_student\" and assign it a boolean value indicating whether you are\n# currently a student or not.\n\n#(As I am a student)\n\nis_student = True \n\n#(If I would not have been a student then)\n\nis_student = False",
      "metadata": {
        "trusted": true
      },
      "execution_count": 47,
      "outputs": []
    },
    {
      "cell_type": "code",
      "source": "",
      "metadata": {
        "trusted": true
      },
      "execution_count": null,
      "outputs": []
    },
    {
      "cell_type": "code",
      "source": "",
      "metadata": {},
      "execution_count": null,
      "outputs": []
    },
    {
      "cell_type": "code",
      "source": "",
      "metadata": {},
      "execution_count": null,
      "outputs": []
    },
    {
      "cell_type": "code",
      "source": "",
      "metadata": {},
      "execution_count": null,
      "outputs": []
    },
    {
      "cell_type": "code",
      "source": "",
      "metadata": {},
      "execution_count": null,
      "outputs": []
    },
    {
      "cell_type": "code",
      "source": "",
      "metadata": {},
      "execution_count": null,
      "outputs": []
    },
    {
      "cell_type": "code",
      "source": "",
      "metadata": {},
      "execution_count": null,
      "outputs": []
    },
    {
      "cell_type": "code",
      "source": "",
      "metadata": {},
      "execution_count": null,
      "outputs": []
    },
    {
      "cell_type": "code",
      "source": "",
      "metadata": {},
      "execution_count": null,
      "outputs": []
    },
    {
      "cell_type": "code",
      "source": "",
      "metadata": {},
      "execution_count": null,
      "outputs": []
    },
    {
      "cell_type": "code",
      "source": "",
      "metadata": {},
      "execution_count": null,
      "outputs": []
    },
    {
      "cell_type": "code",
      "source": "",
      "metadata": {},
      "execution_count": null,
      "outputs": []
    },
    {
      "cell_type": "code",
      "source": "",
      "metadata": {},
      "execution_count": null,
      "outputs": []
    },
    {
      "cell_type": "code",
      "source": "",
      "metadata": {},
      "execution_count": null,
      "outputs": []
    },
    {
      "cell_type": "code",
      "source": "",
      "metadata": {},
      "execution_count": null,
      "outputs": []
    },
    {
      "cell_type": "code",
      "source": "",
      "metadata": {},
      "execution_count": null,
      "outputs": []
    },
    {
      "cell_type": "code",
      "source": "",
      "metadata": {},
      "execution_count": null,
      "outputs": []
    },
    {
      "cell_type": "code",
      "source": "",
      "metadata": {},
      "execution_count": null,
      "outputs": []
    },
    {
      "cell_type": "code",
      "source": "",
      "metadata": {},
      "execution_count": null,
      "outputs": []
    },
    {
      "cell_type": "code",
      "source": "",
      "metadata": {},
      "execution_count": null,
      "outputs": []
    },
    {
      "cell_type": "code",
      "source": "",
      "metadata": {},
      "execution_count": null,
      "outputs": []
    },
    {
      "cell_type": "code",
      "source": "",
      "metadata": {},
      "execution_count": null,
      "outputs": []
    },
    {
      "cell_type": "code",
      "source": "",
      "metadata": {},
      "execution_count": null,
      "outputs": []
    }
  ]
}